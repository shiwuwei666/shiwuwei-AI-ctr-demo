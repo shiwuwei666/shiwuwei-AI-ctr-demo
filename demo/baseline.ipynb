{
 "cells": [
  {
   "cell_type": "code",
   "execution_count": null,
   "id": "84b58373",
   "metadata": {
    "vscode": {
     "languageId": "plaintext"
    }
   },
   "outputs": [],
   "source": [
    "# 示例：电商CTR建模\n",
    "\n",
    "import pandas as pd\n",
    "import numpy as np\n",
    "import lightgbm as lgb\n",
    "from sklearn.model_selection import train_test_split\n",
    "from sklearn.metrics import roc_auc_score, classification_report\n",
    "\n",
    "# 1. 读取数据\n",
    "data = pd.read_csv(\"../data/sample_ctr.csv\")\n",
    "\n",
    "# 2. 简单特征筛选与处理\n",
    "use_cols = [\n",
    "    'user_id', 'item_id', 'age', 'user_level', 'price', 'dayofweek', 'hour',\n",
    "    'holiday', 'temp_c', 'prev_clicks', 'is_click'\n",
    "]\n",
    "X = data[use_cols].copy()\n",
    "X['user_id'] = X['user_id'] % 1000   # 映射/脱敏\n",
    "X['item_id'] = X['item_id'] % 1000\n",
    "\n",
    "y = X.pop('is_click')\n",
    "\n",
    "# 3. 划分数据集\n",
    "X_train, X_test, y_train, y_test = train_test_split(X, y, test_size=0.2, random_state=42)\n",
    "\n",
    "# 4. 模型训练\n",
    "clf = lgb.LGBMClassifier(n_estimators=60, learning_rate=0.12, random_state=42)\n",
    "clf.fit(X_train, y_train)\n",
    "\n",
    "# 5. 评估\n",
    "y_pred = clf.predict(X_test)\n",
    "y_proba = clf.predict_proba(X_test)[:, 1]\n",
    "auc = roc_auc_score(y_test, y_proba)\n",
    "print(\"Test AUC: \", auc)\n",
    "print(classification_report(y_test, y_pred))\n",
    "\n",
    "# 6. 简单画图（AUC曲线等）\n",
    "import matplotlib.pyplot as plt\n",
    "from sklearn.metrics import roc_curve\n",
    "\n",
    "fpr, tpr, thresholds = roc_curve(y_test, y_proba)\n",
    "plt.figure(figsize=(6,4))\n",
    "plt.plot(fpr, tpr, label='LightGBM (AUC = %.3f)' % auc)\n",
    "plt.plot([0,1],[0,1],'--',color='gray')\n",
    "plt.xlabel('FPR')\n",
    "plt.ylabel('TPR')\n",
    "plt.title('ROC Curve - CTR Prediction')\n",
    "plt.legend()\n",
    "plt.show()"
   ]
  }
 ],
 "metadata": {
  "language_info": {
   "name": "python"
  }
 },
 "nbformat": 4,
 "nbformat_minor": 5
}
